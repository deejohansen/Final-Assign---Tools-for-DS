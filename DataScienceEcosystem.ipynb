{
 "cells": [
  {
   "cell_type": "markdown",
   "id": "d9083116-3902-439a-9863-0aab7edb59c4",
   "metadata": {},
   "source": [
    "# Data Science Tools and Ecosystem"
   ]
  },
  {
   "cell_type": "markdown",
   "id": "4b4b8ef3-3eee-48c6-873c-4141d3ff7121",
   "metadata": {},
   "source": [
    "**In this notebook, Data Science Tools and Ecosystem are summarized.**"
   ]
  },
  {
   "cell_type": "markdown",
   "id": "ca7bfd24-010e-4f64-9ccd-192f5e70b082",
   "metadata": {},
   "source": [
    "**Objectives:**\n",
    "- Popular languages used by data scientists\n",
    "- Commmonly used libraries used by data scientists\n",
    "- Data Science Tools\n",
    "- Examples of python code used to evaluate mathematical expressions"
   ]
  },
  {
   "cell_type": "markdown",
   "id": "c493fa82-4072-456d-bd17-5640a66c8829",
   "metadata": {},
   "source": [
    "*Some of the popular languages that Data Scientists use are:*\n",
    "1. Python\n",
    "2. SQL\n",
    "3. R\n",
    "4. Scala\n",
    "6. Java\n",
    "7. C++\n",
    "8. Julia"
   ]
  },
  {
   "cell_type": "markdown",
   "id": "e51263fd-b0d5-4b35-bfca-6bfc1f32479d",
   "metadata": {},
   "source": [
    "*Some of the commonly used libraries used by Data Scientists include:*\n",
    "1. TensorFlow\n",
    "2. Numpy\n",
    "3. SciPy \n",
    "4. Pandas\n",
    "5. Matplotlib\n",
    "6. Seaborn\n",
    "7. Scikit-learn\n",
    "8. Keras\n",
    "9. PyTorch\n",
    "10. apacheSpark"
   ]
  },
  {
   "cell_type": "markdown",
   "id": "99658a3a-1f28-4411-b100-c8c21d855851",
   "metadata": {},
   "source": [
    "|Data Science Tools|\n",
    "|------------------|\n",
    "|Jupyter Notebook|\n",
    "|Rstudio|\n",
    "|Spyder|"
   ]
  },
  {
   "cell_type": "markdown",
   "id": "37607258-d6c5-40e4-8dc9-a3cb89c11ab7",
   "metadata": {},
   "source": [
    "### Below are a few examples of evaluating arithmetic expressions in Python"
   ]
  },
  {
   "cell_type": "markdown",
   "id": "6673abc9-2236-43a2-84ed-cfe12276cbb2",
   "metadata": {},
   "source": [
    "*This a simple arithmetic expression to mutiply then add integers*"
   ]
  },
  {
   "cell_type": "code",
   "execution_count": 1,
   "id": "44afe440-8d1c-488f-b44c-5ef7d2decaa5",
   "metadata": {},
   "outputs": [
    {
     "data": {
      "text/plain": [
       "17"
      ]
     },
     "execution_count": 1,
     "metadata": {},
     "output_type": "execute_result"
    }
   ],
   "source": [
    "(3*4)+5"
   ]
  },
  {
   "cell_type": "markdown",
   "id": "80a935bd-236b-4e29-9d1a-bdf640ef196f",
   "metadata": {},
   "source": [
    "*This will convert 200 minutes to hours by dividing by 60*"
   ]
  },
  {
   "cell_type": "code",
   "execution_count": 2,
   "id": "68948c43-fcc0-4e1e-b694-4b66a61f7b00",
   "metadata": {},
   "outputs": [
    {
     "data": {
      "text/plain": [
       "3.3333333333333335"
      ]
     },
     "execution_count": 2,
     "metadata": {},
     "output_type": "execute_result"
    }
   ],
   "source": [
    "200/60"
   ]
  },
  {
   "cell_type": "markdown",
   "id": "9c548d9e-025f-432b-b8d9-840658fe85cd",
   "metadata": {},
   "source": [
    "## Author"
   ]
  },
  {
   "cell_type": "markdown",
   "id": "977534de-5e93-4dea-b6a1-72b4bdf4bd7e",
   "metadata": {},
   "source": [
    "Deanna Johansen"
   ]
  },
  {
   "cell_type": "code",
   "execution_count": null,
   "id": "0eb6cbc8-afcf-46cc-b66f-d11db76cf627",
   "metadata": {},
   "outputs": [],
   "source": []
  }
 ],
 "metadata": {
  "kernelspec": {
   "display_name": "Python 3 (ipykernel)",
   "language": "python",
   "name": "python3"
  },
  "language_info": {
   "codemirror_mode": {
    "name": "ipython",
    "version": 3
   },
   "file_extension": ".py",
   "mimetype": "text/x-python",
   "name": "python",
   "nbconvert_exporter": "python",
   "pygments_lexer": "ipython3",
   "version": "3.11.7"
  }
 },
 "nbformat": 4,
 "nbformat_minor": 5
}

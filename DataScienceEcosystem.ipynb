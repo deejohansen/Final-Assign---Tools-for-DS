{
 "cells": [
  {
   "cell_type": "markdown",
   "id": "6c154f5b-1fde-4db1-898d-664f743f579d",
   "metadata": {},
   "source": [
    "<center>\n",
    "    <img src=\"https://cf-courses-data.s3.us.cloud-object-storage.appdomain.cloud/IBMDeveloperSkillsNetwork-DS0105EN-SkillsNetwork/labs/Module2/images/SN_web_lightmode.png\" width=\"300\" alt=\"cognitiveclass.ai logo\">\n",
    "</center>"
   ]
  },
  {
   "cell_type": "markdown",
   "id": "e290324d-b5e2-4caa-9907-f5e6e5c8add6",
   "metadata": {},
   "source": [
    "# Data Science Tools and Ecosystem"
   ]
  },
  {
   "cell_type": "markdown",
   "id": "247a5ec2-5d17-4d28-bee7-b673b6a1afca",
   "metadata": {},
   "source": [
    "**In this notebook, Data Science Tools and Ecosystem are summarized.**"
   ]
  },
  {
   "cell_type": "markdown",
   "id": "aaecab74-2eab-416a-9dfe-8ace51c12294",
   "metadata": {},
   "source": [
    "**Objectives:**\n",
    "- Popular languages used by data scientists\n",
    "- Commmonly used libraries used by data scientists\n",
    "- Data Science Tools\n",
    "- Examples of python code used to evaluate mathematical expressions"
   ]
  },
  {
   "cell_type": "markdown",
   "id": "b0f3bac9-902d-4862-bc2a-5eba8bcc7efc",
   "metadata": {},
   "source": [
    "*Some of the popular languages that Data Scientists use are:*\n",
    "1. Python\n",
    "2. SQL\n",
    "3. R\n",
    "4. Scala\n",
    "6. Java\n",
    "7. C++\n",
    "8. Julia"
   ]
  },
  {
   "cell_type": "markdown",
   "id": "43a02711-01de-4cb7-ade6-d5645ca29006",
   "metadata": {},
   "source": [
    "*Some of the commonly used libraries used by Data Scientists include:*\n",
    "1. TensorFlow\n",
    "2. Numpy\n",
    "3. SciPy \n",
    "4. Pandas\n",
    "5. Matplotlib\n",
    "6. Seaborn\n",
    "7. Scikit-learn\n",
    "8. Keras\n",
    "9. PyTorch\n",
    "10. apacheSpark"
   ]
  },
  {
   "cell_type": "markdown",
   "id": "ee8a7fb4-4726-4d89-afb0-e638aa2a4598",
   "metadata": {},
   "source": [
    "|Data Science Tools|\n",
    "|------------------|\n",
    "|Jupyter Notebook|\n",
    "|Rstudio|\n",
    "|Spyder|"
   ]
  },
  {
   "cell_type": "markdown",
   "id": "1cf924c0-5713-4430-a89e-56abb717bb77",
   "metadata": {},
   "source": [
    "### Below are a few examples of evaluating arithmetic expressions in Python"
   ]
  },
  {
   "cell_type": "markdown",
   "id": "b6ecd110-7077-44eb-8b83-413554d79574",
   "metadata": {},
   "source": [
    "*This a simple arithmetic expression to mutiply then add integers*"
   ]
  },
  {
   "cell_type": "code",
   "execution_count": 1,
   "id": "44afe440-8d1c-488f-b44c-5ef7d2decaa5",
   "metadata": {},
   "outputs": [
    {
     "data": {
      "text/plain": [
       "17"
      ]
     },
     "execution_count": 1,
     "metadata": {},
     "output_type": "execute_result"
    }
   ],
   "source": [
    "(3*4)+5"
   ]
  },
  {
   "cell_type": "markdown",
   "id": "5d89b043-e2ed-4ce8-986a-a845c0937d8a",
   "metadata": {},
   "source": [
    "*This will convert 200 minutes to hours by dividing by 60*"
   ]
  },
  {
   "cell_type": "code",
   "execution_count": 2,
   "id": "68948c43-fcc0-4e1e-b694-4b66a61f7b00",
   "metadata": {},
   "outputs": [
    {
     "data": {
      "text/plain": [
       "3.3333333333333335"
      ]
     },
     "execution_count": 2,
     "metadata": {},
     "output_type": "execute_result"
    }
   ],
   "source": [
    "200/60"
   ]
  },
  {
   "cell_type": "markdown",
   "id": "6da17a79-062a-4386-aabb-26421d49e5c3",
   "metadata": {},
   "source": [
    "## Author"
   ]
  },
  {
   "cell_type": "markdown",
   "id": "8942e018-067f-4ac5-93d0-b821eb978bc1",
   "metadata": {},
   "source": [
    "Deanna Johansen"
   ]
  },
  {
   "cell_type": "code",
   "execution_count": null,
   "id": "0eb6cbc8-afcf-46cc-b66f-d11db76cf627",
   "metadata": {},
   "outputs": [],
   "source": []
  }
 ],
 "metadata": {
  "kernelspec": {
   "display_name": "Python 3 (ipykernel)",
   "language": "python",
   "name": "python3"
  },
  "language_info": {
   "codemirror_mode": {
    "name": "ipython",
    "version": 3
   },
   "file_extension": ".py",
   "mimetype": "text/x-python",
   "name": "python",
   "nbconvert_exporter": "python",
   "pygments_lexer": "ipython3",
   "version": "3.11.7"
  }
 },
 "nbformat": 4,
 "nbformat_minor": 5
}
